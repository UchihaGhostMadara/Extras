{
 "cells": [
  {
   "cell_type": "markdown",
   "metadata": {},
   "source": [
    "# Data Science"
   ]
  },
  {
   "cell_type": "markdown",
   "metadata": {},
   "source": [
    "###  Introduction :\n",
    "Data science is the interdisciplinary field that employs scientific methods, processes, algorithms, and systems to extract insights and knowledge from structured and unstructured data. It encompasses data analysis, machine learning, statistics, and domain expertise to solve complex problems and drive decision-making.\n"
   ]
  },
  {
   "cell_type": "markdown",
   "metadata": {},
   "source": [
    "### Languages Used In Data Science\n",
    "Python, R, SQL, Julia, Scala, MATLAB, Java, JavaScript, C/C++, SAS."
   ]
  },
  {
   "cell_type": "markdown",
   "metadata": {},
   "source": [
    "### Libraries Used In Data Science\n",
    "NumPy, pandas, Matplotlib, Seaborn, Scikit-learn, TensorFlow, Keras, PyTorch, NLTK, spaCy, SciPy, StatsModels, BeautifulSoup, Plotly, D3.js, Ggplot2, Caret, Apache Spark MLlib, H2O.ai, XGBoost, LightGBM, CatBoost."
   ]
  },
  {
   "cell_type": "markdown",
   "metadata": {},
   "source": [
    "### Tools Used In Data Science\n",
    "Jupyter Notebook, RStudio, Anaconda, Tableau, SAS, Apache Hadoop, Apache Spark, KNIME, RapidMiner, Microsoft Azure Machine Learning Studio, IBM Watson Studio, Google Colab, Databricks, Alteryx, MATLAB.\n",
    "    "
   ]
  },
  {
   "cell_type": "markdown",
   "metadata": {},
   "source": [
    "### Arithmetic Expression Examples\n",
    "\n",
    "Here are some examples of arithmetic expressions:\n",
    "\n",
    "1. Addition: 2 + 3 = 5\n",
    "2. Subtraction: 7 - 4 = 3\n",
    "3. Multiplication: 5 * 6 = 30\n",
    "4. Division: 10 / 2 = 5\n",
    "5. Exponentiation: 2^3 = 8"
   ]
  },
  {
   "cell_type": "code",
   "execution_count": 1,
   "metadata": {},
   "outputs": [
    {
     "name": "stdout",
     "output_type": "stream",
     "text": [
      "Multiplication result: 50\n",
      "Addition result: 35\n"
     ]
    }
   ],
   "source": [
    "# Multiplication\n",
    "mult = 5 * 10\n",
    "print(\"Multiplication result:\", mult)\n",
    "\n",
    "# Addition\n",
    "add = 15 + 20\n",
    "print(\"Addition result:\", add)"
   ]
  },
  {
   "cell_type": "code",
   "execution_count": 2,
   "metadata": {},
   "outputs": [
    {
     "name": "stdout",
     "output_type": "stream",
     "text": [
      "150 minutes is equal to 2.5 hours\n"
     ]
    }
   ],
   "source": [
    "minutes = 150\n",
    "\n",
    "hours = minutes / 60\n",
    "\n",
    "print(minutes, \"minutes is equal to\", hours, \"hours\")\n"
   ]
  },
  {
   "cell_type": "markdown",
   "metadata": {},
   "source": [
    "### Objectives of Data Science:\n",
    "\n",
    "1. Extract insights and knowledge from data.\n",
    "2. Make data-driven decisions.\n",
    "3. Develop predictive models for forecasting.\n",
    "4. Explore patterns and trends in data.\n",
    "5. Optimize processes and strategies based on data analysis.\n",
    "6. Communicate findings effectively to stakeholders.\n"
   ]
  },
  {
   "cell_type": "markdown",
   "metadata": {},
   "source": [
    "Author : Adarsh Rai"
   ]
  }
 ],
 "metadata": {
  "kernelspec": {
   "display_name": "Python 3",
   "language": "python",
   "name": "python3"
  },
  "language_info": {
   "codemirror_mode": {
    "name": "ipython",
    "version": 3
   },
   "file_extension": ".py",
   "mimetype": "text/x-python",
   "name": "python",
   "nbconvert_exporter": "python",
   "pygments_lexer": "ipython3",
   "version": "3.11.0"
  }
 },
 "nbformat": 4,
 "nbformat_minor": 2
}
